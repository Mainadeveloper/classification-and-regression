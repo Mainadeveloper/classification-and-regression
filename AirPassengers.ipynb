{
 "cells": [
  {
   "cell_type": "markdown",
   "id": "40586578-73ed-4a47-9db0-a6200301be06",
   "metadata": {},
   "source": [
    "**We leverage past data to predict future trends in Arpassenger traffic**"
   ]
  },
  {
   "cell_type": "code",
   "execution_count": 2,
   "id": "d5150497-eedc-4c28-be4c-21863646b809",
   "metadata": {},
   "outputs": [
    {
     "name": "stdout",
     "output_type": "stream",
     "text": [
      "Requirement already satisfied: statsmodels in c:\\users\\maina\\appdata\\local\\programs\\python\\python39\\lib\\site-packages (0.14.4)\n",
      "Requirement already satisfied: numpy<3,>=1.22.3 in c:\\users\\maina\\appdata\\local\\programs\\python\\python39\\lib\\site-packages (from statsmodels) (1.26.4)\n",
      "Requirement already satisfied: scipy!=1.9.2,>=1.8 in c:\\users\\maina\\appdata\\local\\programs\\python\\python39\\lib\\site-packages (from statsmodels) (1.13.1)\n",
      "Requirement already satisfied: pandas!=2.1.0,>=1.4 in c:\\users\\maina\\appdata\\local\\programs\\python\\python39\\lib\\site-packages (from statsmodels) (2.2.2)\n",
      "Requirement already satisfied: patsy>=0.5.6 in c:\\users\\maina\\appdata\\local\\programs\\python\\python39\\lib\\site-packages (from statsmodels) (0.5.6)\n",
      "Requirement already satisfied: packaging>=21.3 in c:\\users\\maina\\appdata\\local\\programs\\python\\python39\\lib\\site-packages (from statsmodels) (24.1)\n",
      "Requirement already satisfied: python-dateutil>=2.8.2 in c:\\users\\maina\\appdata\\local\\programs\\python\\python39\\lib\\site-packages (from pandas!=2.1.0,>=1.4->statsmodels) (2.9.0.post0)\n",
      "Requirement already satisfied: pytz>=2020.1 in c:\\users\\maina\\appdata\\local\\programs\\python\\python39\\lib\\site-packages (from pandas!=2.1.0,>=1.4->statsmodels) (2024.2)\n",
      "Requirement already satisfied: tzdata>=2022.7 in c:\\users\\maina\\appdata\\local\\programs\\python\\python39\\lib\\site-packages (from pandas!=2.1.0,>=1.4->statsmodels) (2024.1)\n",
      "Requirement already satisfied: six in c:\\users\\maina\\appdata\\local\\programs\\python\\python39\\lib\\site-packages (from patsy>=0.5.6->statsmodels) (1.16.0)\n"
     ]
    },
    {
     "name": "stderr",
     "output_type": "stream",
     "text": [
      "\n",
      "[notice] A new release of pip is available: 24.2 -> 24.3.1\n",
      "[notice] To update, run: python.exe -m pip install --upgrade pip\n"
     ]
    },
    {
     "name": "stdout",
     "output_type": "stream",
     "text": [
      "Requirement already satisfied: scikit-learn in c:\\users\\maina\\appdata\\local\\programs\\python\\python39\\lib\\site-packages (1.5.2)\n",
      "Requirement already satisfied: numpy>=1.19.5 in c:\\users\\maina\\appdata\\local\\programs\\python\\python39\\lib\\site-packages (from scikit-learn) (1.26.4)\n",
      "Requirement already satisfied: scipy>=1.6.0 in c:\\users\\maina\\appdata\\local\\programs\\python\\python39\\lib\\site-packages (from scikit-learn) (1.13.1)\n",
      "Requirement already satisfied: joblib>=1.2.0 in c:\\users\\maina\\appdata\\local\\programs\\python\\python39\\lib\\site-packages (from scikit-learn) (1.4.2)\n",
      "Requirement already satisfied: threadpoolctl>=3.1.0 in c:\\users\\maina\\appdata\\local\\programs\\python\\python39\\lib\\site-packages (from scikit-learn) (3.5.0)\n"
     ]
    },
    {
     "name": "stderr",
     "output_type": "stream",
     "text": [
      "\n",
      "[notice] A new release of pip is available: 24.2 -> 24.3.1\n",
      "[notice] To update, run: python.exe -m pip install --upgrade pip\n"
     ]
    }
   ],
   "source": [
    "!pip install statsmodels\n",
    "!pip install scikit-learn\n"
   ]
  },
  {
   "cell_type": "code",
   "execution_count": 5,
   "id": "2e866673-e98c-47f2-904d-f88b1f636022",
   "metadata": {},
   "outputs": [],
   "source": [
    "from pandas import read_csv\n",
    "import pandas as pd\n",
    "from matplotlib import pyplot\n",
    "from statsmodels.tsa.ar_model import AutoReg\n",
    "from sklearn.metrics import mean_squared_error\n",
    "from math import sqrt"
   ]
  },
  {
   "cell_type": "code",
   "execution_count": 9,
   "id": "530aa06e-8615-4739-b2f4-da969a1631ef",
   "metadata": {},
   "outputs": [],
   "source": [
    "df2=pd.read_csv('C:/classisificatn and regressin/AirPassengers.csv',header=0,index_col=0,parse_dates=[0]) "
   ]
  },
  {
   "cell_type": "code",
   "execution_count": 10,
   "id": "baa88aad-96e5-4acf-904a-2914f10d96ae",
   "metadata": {},
   "outputs": [
    {
     "data": {
      "text/html": [
       "<div>\n",
       "<style scoped>\n",
       "    .dataframe tbody tr th:only-of-type {\n",
       "        vertical-align: middle;\n",
       "    }\n",
       "\n",
       "    .dataframe tbody tr th {\n",
       "        vertical-align: top;\n",
       "    }\n",
       "\n",
       "    .dataframe thead th {\n",
       "        text-align: right;\n",
       "    }\n",
       "</style>\n",
       "<table border=\"1\" class=\"dataframe\">\n",
       "  <thead>\n",
       "    <tr style=\"text-align: right;\">\n",
       "      <th></th>\n",
       "      <th>#Passengers</th>\n",
       "    </tr>\n",
       "    <tr>\n",
       "      <th>Month</th>\n",
       "      <th></th>\n",
       "    </tr>\n",
       "  </thead>\n",
       "  <tbody>\n",
       "    <tr>\n",
       "      <th>1949-01-01</th>\n",
       "      <td>112</td>\n",
       "    </tr>\n",
       "    <tr>\n",
       "      <th>1949-02-01</th>\n",
       "      <td>118</td>\n",
       "    </tr>\n",
       "    <tr>\n",
       "      <th>1949-03-01</th>\n",
       "      <td>132</td>\n",
       "    </tr>\n",
       "    <tr>\n",
       "      <th>1949-04-01</th>\n",
       "      <td>129</td>\n",
       "    </tr>\n",
       "    <tr>\n",
       "      <th>1949-05-01</th>\n",
       "      <td>121</td>\n",
       "    </tr>\n",
       "  </tbody>\n",
       "</table>\n",
       "</div>"
      ],
      "text/plain": [
       "            #Passengers\n",
       "Month                  \n",
       "1949-01-01          112\n",
       "1949-02-01          118\n",
       "1949-03-01          132\n",
       "1949-04-01          129\n",
       "1949-05-01          121"
      ]
     },
     "execution_count": 10,
     "metadata": {},
     "output_type": "execute_result"
    }
   ],
   "source": [
    "df2.head()"
   ]
  },
  {
   "cell_type": "markdown",
   "id": "c8e9a44d-20b8-4f2b-bb57-05d8b187ff49",
   "metadata": {},
   "source": [
    "**Create Lagged Variable 't' and Calculate Residuals**"
   ]
  },
  {
   "cell_type": "code",
   "execution_count": 22,
   "id": "477f69c8-895a-4a9d-9ccd-45540806c89a",
   "metadata": {},
   "outputs": [],
   "source": [
    "df2['t'] = df2['#Passengers'].shift(1)"
   ]
  },
  {
   "cell_type": "code",
   "execution_count": 23,
   "id": "8f823921-cf9e-4445-8a13-dbab0e6baa25",
   "metadata": {},
   "outputs": [],
   "source": [
    "df2['Resid'] = df2['#Passengers'] - df2['t']"
   ]
  },
  {
   "cell_type": "code",
   "execution_count": 24,
   "id": "4aebc7ac-6ce6-4d44-ab5d-b435c6695586",
   "metadata": {},
   "outputs": [
    {
     "data": {
      "text/html": [
       "<div>\n",
       "<style scoped>\n",
       "    .dataframe tbody tr th:only-of-type {\n",
       "        vertical-align: middle;\n",
       "    }\n",
       "\n",
       "    .dataframe tbody tr th {\n",
       "        vertical-align: top;\n",
       "    }\n",
       "\n",
       "    .dataframe thead th {\n",
       "        text-align: right;\n",
       "    }\n",
       "</style>\n",
       "<table border=\"1\" class=\"dataframe\">\n",
       "  <thead>\n",
       "    <tr style=\"text-align: right;\">\n",
       "      <th></th>\n",
       "      <th>#Passengers</th>\n",
       "      <th>t</th>\n",
       "      <th>Resid</th>\n",
       "    </tr>\n",
       "    <tr>\n",
       "      <th>Month</th>\n",
       "      <th></th>\n",
       "      <th></th>\n",
       "      <th></th>\n",
       "    </tr>\n",
       "  </thead>\n",
       "  <tbody>\n",
       "    <tr>\n",
       "      <th>1949-02-01</th>\n",
       "      <td>118</td>\n",
       "      <td>NaN</td>\n",
       "      <td>NaN</td>\n",
       "    </tr>\n",
       "    <tr>\n",
       "      <th>1949-03-01</th>\n",
       "      <td>132</td>\n",
       "      <td>118.0</td>\n",
       "      <td>14.0</td>\n",
       "    </tr>\n",
       "    <tr>\n",
       "      <th>1949-04-01</th>\n",
       "      <td>129</td>\n",
       "      <td>132.0</td>\n",
       "      <td>-3.0</td>\n",
       "    </tr>\n",
       "    <tr>\n",
       "      <th>1949-05-01</th>\n",
       "      <td>121</td>\n",
       "      <td>129.0</td>\n",
       "      <td>-8.0</td>\n",
       "    </tr>\n",
       "    <tr>\n",
       "      <th>1949-06-01</th>\n",
       "      <td>135</td>\n",
       "      <td>121.0</td>\n",
       "      <td>14.0</td>\n",
       "    </tr>\n",
       "  </tbody>\n",
       "</table>\n",
       "</div>"
      ],
      "text/plain": [
       "            #Passengers      t  Resid\n",
       "Month                                \n",
       "1949-02-01          118    NaN    NaN\n",
       "1949-03-01          132  118.0   14.0\n",
       "1949-04-01          129  132.0   -3.0\n",
       "1949-05-01          121  129.0   -8.0\n",
       "1949-06-01          135  121.0   14.0"
      ]
     },
     "execution_count": 24,
     "metadata": {},
     "output_type": "execute_result"
    }
   ],
   "source": [
    "df2.head()"
   ]
  },
  {
   "cell_type": "code",
   "execution_count": 27,
   "id": "b256bed0-9dcd-4fc2-b97c-2a5ef684f155",
   "metadata": {},
   "outputs": [
    {
     "data": {
      "text/plain": [
       "(143, 3)"
      ]
     },
     "execution_count": 27,
     "metadata": {},
     "output_type": "execute_result"
    }
   ],
   "source": [
    "df2.shape"
   ]
  },
  {
   "cell_type": "markdown",
   "id": "c9a984db-77b0-4864-86c9-1d23aafa05f4",
   "metadata": {},
   "source": [
    "**Prepare data for training and testing**"
   ]
  },
  {
   "cell_type": "code",
   "execution_count": 31,
   "id": "c53dff85-568c-4f44-beea-00b1f31fa1c0",
   "metadata": {},
   "outputs": [],
   "source": [
    "df2.shape[0]-7\n",
    "new_train, new_test = df2.Resid[1:df2.shape[0]-7], df2.Resid[df2.shape[0]-7:]\n",
    "#This approach is useful when you want a fixed number of observations in the test set (in this case, 7) rather than a specific percentage"
   ]
  },
  {
   "cell_type": "code",
   "execution_count": 32,
   "id": "666f73eb-d05b-4985-bfa1-b1740b752546",
   "metadata": {},
   "outputs": [
    {
     "data": {
      "text/plain": [
       "Month\n",
       "1949-03-01    14.0\n",
       "1949-04-01    -3.0\n",
       "1949-05-01    -8.0\n",
       "1949-06-01    14.0\n",
       "1949-07-01    13.0\n",
       "Name: Resid, dtype: float64"
      ]
     },
     "execution_count": 32,
     "metadata": {},
     "output_type": "execute_result"
    }
   ],
   "source": [
    "new_train.head()"
   ]
  },
  {
   "cell_type": "code",
   "execution_count": 33,
   "id": "605a531d-a5ed-4683-84d4-44b4e1e5e289",
   "metadata": {},
   "outputs": [
    {
     "data": {
      "text/plain": [
       "Month\n",
       "1960-06-01    63.0\n",
       "1960-07-01    87.0\n",
       "1960-08-01   -16.0\n",
       "1960-09-01   -98.0\n",
       "1960-10-01   -47.0\n",
       "Name: Resid, dtype: float64"
      ]
     },
     "execution_count": 33,
     "metadata": {},
     "output_type": "execute_result"
    }
   ],
   "source": [
    "new_test.head()"
   ]
  },
  {
   "cell_type": "markdown",
   "id": "59458f35-3bf0-40e6-a2a1-e1bd9eeda278",
   "metadata": {},
   "source": [
    "**Fit an Autoregressive Model with Lag of 29**"
   ]
  },
  {
   "cell_type": "code",
   "execution_count": 35,
   "id": "4da354f5-1c53-469b-93d8-6332b82534a6",
   "metadata": {},
   "outputs": [
    {
     "name": "stderr",
     "output_type": "stream",
     "text": [
      "C:\\Users\\maina\\AppData\\Local\\Programs\\Python\\Python39\\lib\\site-packages\\statsmodels\\tsa\\base\\tsa_model.py:473: ValueWarning: No frequency information was provided, so inferred frequency MS will be used.\n",
      "  self._init_dates(dates, freq)\n"
     ]
    }
   ],
   "source": [
    "new_model = AutoReg(new_train, lags=29)\n",
    "new_model_fit = new_model.fit()"
   ]
  },
  {
   "cell_type": "markdown",
   "id": "565540b3-c95b-422a-bbf2-c9316c74d851",
   "metadata": {},
   "source": [
    "**Make Predictions on Test Data Residuals**"
   ]
  },
  {
   "cell_type": "code",
   "execution_count": 37,
   "id": "428a5700-722b-4dac-86a4-67b14f55cc90",
   "metadata": {},
   "outputs": [
    {
     "name": "stdout",
     "output_type": "stream",
     "text": [
      "Coefficients:const        7.156572\n",
      "Resid.L1    -0.439200\n",
      "Resid.L2    -0.103548\n",
      "Resid.L3    -0.130387\n",
      "Resid.L4    -0.228027\n",
      "Resid.L5     0.002623\n",
      "Resid.L6    -0.142071\n",
      "Resid.L7    -0.032436\n",
      "Resid.L8    -0.143311\n",
      "Resid.L9     0.173312\n",
      "Resid.L10   -0.299587\n",
      "Resid.L11   -0.236539\n",
      "Resid.L12    0.492806\n",
      "Resid.L13    0.237682\n",
      "Resid.L14   -0.128476\n",
      "Resid.L15    0.118950\n",
      "Resid.L16   -0.056312\n",
      "Resid.L17   -0.145927\n",
      "Resid.L18   -0.209264\n",
      "Resid.L19   -0.146284\n",
      "Resid.L20   -0.215327\n",
      "Resid.L21   -0.335635\n",
      "Resid.L22   -0.054089\n",
      "Resid.L23    0.189873\n",
      "Resid.L24    0.264695\n",
      "Resid.L25    0.237690\n",
      "Resid.L26   -0.138470\n",
      "Resid.L27   -0.139014\n",
      "Resid.L28   -0.009733\n",
      "Resid.L29    0.062046\n",
      "dtype: float64\n"
     ]
    }
   ],
   "source": [
    "print('Coefficients:%s' %new_model_fit.params)"
   ]
  },
  {
   "cell_type": "code",
   "execution_count": 43,
   "id": "66f9d620-5b95-4ed4-a754-1f6f3a2b1687",
   "metadata": {},
   "outputs": [
    {
     "name": "stderr",
     "output_type": "stream",
     "text": [
      "C:\\Users\\maina\\AppData\\Local\\Programs\\Python\\Python39\\lib\\site-packages\\statsmodels\\tsa\\deterministic.py:308: UserWarning: Only PeriodIndexes, DatetimeIndexes with a frequency set, RangesIndexes, and Index with a unit increment support extending. The index is set will contain the position relative to the data length.\n",
      "  fcast_index = self._extend_index(index, steps, forecast_index)\n"
     ]
    }
   ],
   "source": [
    "new_pred_resid = new_model_fit.predict(start=len(new_train), end=len(new_train)+len(new_test)-1).dropna()\n",
    "#predictions will begin immediately after the training data\n",
    "#Starting right after the training data,Covering the full length of the test data,Cleaning up NaN values for accurate evaluation and further processing."
   ]
  },
  {
   "cell_type": "code",
   "execution_count": 44,
   "id": "d09462a9-c7b4-486f-83d0-ca36da35d6a7",
   "metadata": {},
   "outputs": [
    {
     "data": {
      "text/plain": [
       "1960-06-01     77.526373\n",
       "1960-07-01     79.429150\n",
       "1960-08-01     -4.865091\n",
       "1960-09-01   -103.131138\n",
       "1960-10-01    -94.864589\n",
       "1960-11-01    -31.817423\n",
       "1960-12-01     23.423143\n",
       "Freq: MS, dtype: float64"
      ]
     },
     "execution_count": 44,
     "metadata": {},
     "output_type": "execute_result"
    }
   ],
   "source": [
    "new_pred_resid"
   ]
  },
  {
   "cell_type": "markdown",
   "id": "7cfc0fd2-a197-492d-bcb4-5901507cacb9",
   "metadata": {},
   "source": [
    "**combine predictions with lagged values**"
   ]
  },
  {
   "cell_type": "code",
   "execution_count": 45,
   "id": "af5d1f8c-9cef-474b-99e0-aa1e5f6fd47d",
   "metadata": {},
   "outputs": [
    {
     "data": {
      "text/plain": [
       "Month\n",
       "1960-06-01    549.526373\n",
       "1960-07-01    614.429150\n",
       "1960-08-01    617.134909\n",
       "1960-09-01    502.868862\n",
       "1960-10-01    413.135411\n",
       "1960-11-01    429.182577\n",
       "1960-12-01    413.423143\n",
       "dtype: float64"
      ]
     },
     "execution_count": 45,
     "metadata": {},
     "output_type": "execute_result"
    }
   ],
   "source": [
    "new_predictions = df2.t[df2.shape[0]-7:] + new_pred_resid\n",
    "new_predictions"
   ]
  },
  {
   "cell_type": "markdown",
   "id": "e805955d-adb3-4de2-8fcb-2e4f38fa5459",
   "metadata": {},
   "source": [
    "**RMSE between the actual new_test and predicted new_predictions**"
   ]
  },
  {
   "cell_type": "code",
   "execution_count": 46,
   "id": "d995f775-9ec1-4579-8050-48e9e06d4fb1",
   "metadata": {},
   "outputs": [
    {
     "name": "stdout",
     "output_type": "stream",
     "text": [
      "Test RMSE: 517.778\n"
     ]
    }
   ],
   "source": [
    "rmse = sqrt(mean_squared_error(new_test, new_predictions))\n",
    "print('Test RMSE: %.3f' % rmse)"
   ]
  },
  {
   "cell_type": "markdown",
   "id": "d5ec8fe3-c170-413b-b7df-89cee124849b",
   "metadata": {},
   "source": [
    "**generate a line plot**"
   ]
  },
  {
   "cell_type": "code",
   "execution_count": 52,
   "id": "a591edbf-9b87-4132-95e7-773f4a1f5762",
   "metadata": {},
   "outputs": [
    {
     "data": {
      "text/plain": [
       "[<matplotlib.lines.Line2D at 0x1c69d3946d0>]"
      ]
     },
     "execution_count": 52,
     "metadata": {},
     "output_type": "execute_result"
    },
    {
     "data": {
      "image/png": "[encoded data removed]",
      "text/plain": [
       "<Figure size 640x480 with 1 Axes>"
      ]
     },
     "metadata": {},
     "output_type": "display_data"
    }
   ],
   "source": [
    "pyplot.plot(new_test)\n",
    "pyplot.plot(new_predictions, color='red')"
   ]
  },
  {
   "cell_type": "code",
   "execution_count": null,
   "id": "2461445e-2c9c-4e19-8d2e-9b7a63842c8b",
   "metadata": {},
   "outputs": [],
   "source": []
  }
 ],
 "metadata": {
  "kernelspec": {
   "display_name": "Python 3 (ipykernel)",
   "language": "python",
   "name": "python3"
  },
  "language_info": {
   "codemirror_mode": {
    "name": "ipython",
    "version": 3
   },
   "file_extension": ".py",
   "mimetype": "text/x-python",
   "name": "python",
   "nbconvert_exporter": "python",
   "pygments_lexer": "ipython3",
   "version": "3.9.13"
  }
 },
 "nbformat": 4,
 "nbformat_minor": 5
}
