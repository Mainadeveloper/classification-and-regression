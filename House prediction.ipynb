{
 "cells": [
  {
   "cell_type": "code",
   "execution_count": null,
   "id": "cf173303-68a9-44ec-8a8d-1b4e36f3056d",
   "metadata": {},
   "outputs": [],
   "source": [
    "import pandas as pd\n",
    "import numpy as np\n",
    "import seaborn as sns\n",
    "import matplotlib.pyplot as plt \n",
    "%matplotlib inline"
   ]
  },
  {
   "cell_type": "code",
   "execution_count": null,
   "id": "fdc874d3-6af3-4893-a8d0-d19deb52d438",
   "metadata": {},
   "outputs": [],
   "source": [
    "House_df=pd.read_csv('H:/JN/data.csv',header=0)"
   ]
  },
  {
   "cell_type": "code",
   "execution_count": null,
   "id": "4b511a39-a94a-42e1-bdc0-2f59472fe132",
   "metadata": {},
   "outputs": [],
   "source": [
    "House_df.head()"
   ]
  },
  {
   "cell_type": "code",
   "execution_count": null,
   "id": "53fcb26a-b753-4696-9d34-38d3b9438cab",
   "metadata": {},
   "outputs": [],
   "source": [
    "House_df.describe()"
   ]
  },
  {
   "cell_type": "code",
   "execution_count": null,
   "id": "0508de6e-26d5-448b-996e-5c88153278bd",
   "metadata": {},
   "outputs": [],
   "source": [
    "House_df.info()"
   ]
  },
  {
   "cell_type": "code",
   "execution_count": null,
   "id": "03f9106b-2375-41f6-8266-b9c387c5289e",
   "metadata": {},
   "outputs": [],
   "source": [
    "sns.pairplot(House_df)"
   ]
  },
  {
   "cell_type": "code",
   "execution_count": null,
   "id": "3f1d8689-270a-4092-95a3-854637af0f86",
   "metadata": {},
   "outputs": [],
   "source": [
    "numeric_df = House_df.select_dtypes(include=['float64', 'int64'])\n",
    "corr_matrix = numeric_df.corr()\n"
   ]
  },
  {
   "cell_type": "code",
   "execution_count": null,
   "id": "59a9deda-ba4f-4120-ab18-eb76950d120d",
   "metadata": {},
   "outputs": [],
   "source": [
    "sns.heatmap(corr_matrix, annot=True)"
   ]
  },
  {
   "cell_type": "code",
   "execution_count": null,
   "id": "1726ddcc-3658-429f-b170-15a540f4927a",
   "metadata": {},
   "outputs": [],
   "source": [
    "House_df.columns"
   ]
  },
  {
   "cell_type": "code",
   "execution_count": null,
   "id": "bdc024e8-874b-4b62-96d0-4a1a9c6e0765",
   "metadata": {},
   "outputs": [],
   "source": [
    "x=House_df[['date', 'price', 'bedrooms', 'bathrooms', 'sqft_living', 'sqft_lot',\n",
    "       'floors', 'waterfront', 'view', 'condition', 'sqft_above',\n",
    "       'sqft_basement', 'yr_built', 'yr_renovated', 'street', 'city',\n",
    "       'statezip', 'country']]\n",
    "y=House_df['price']#this is our target variable "
   ]
  },
  {
   "cell_type": "code",
   "execution_count": null,
   "id": "17e8c711-1c82-4a0f-b91a-fbab3009da07",
   "metadata": {},
   "outputs": [],
   "source": [
    "!pip install scikit-learn\n"
   ]
  },
  {
   "cell_type": "code",
   "execution_count": null,
   "id": "d4688c88-68fe-4845-9471-2c9644c8352e",
   "metadata": {},
   "outputs": [],
   "source": [
    "from sklearn.model_selection import train_test_split"
   ]
  },
  {
   "cell_type": "code",
   "execution_count": null,
   "id": "c0c35511-8dae-411d-895c-a5f268cc5ef5",
   "metadata": {},
   "outputs": [],
   "source": [
    "train_test_split"
   ]
  },
  {
   "cell_type": "code",
   "execution_count": null,
   "id": "3f4de0e0-1071-41e7-96ed-c00cf70ac6ba",
   "metadata": {},
   "outputs": [],
   "source": []
  }
 ],
 "metadata": {
  "kernelspec": {
   "display_name": "Python 3 (ipykernel)",
   "language": "python",
   "name": "python3"
  },
  "language_info": {
   "codemirror_mode": {
    "name": "ipython",
    "version": 3
   },
   "file_extension": ".py",
   "mimetype": "text/x-python",
   "name": "python",
   "nbconvert_exporter": "python",
   "pygments_lexer": "ipython3",
   "version": "3.9.13"
  }
 },
 "nbformat": 4,
 "nbformat_minor": 5
}
