{
 "cells": [
  {
   "cell_type": "code",
   "execution_count": 4,
   "id": "889b38d8-d8fe-42fd-9f22-418f415f0d2e",
   "metadata": {},
   "outputs": [],
   "source": [
    "import pandas as pd\n",
    "import numpy as np\n",
    "import matplotlib.pyplot as plt\n",
    "import statsmodels.api as sm\n"
   ]
  },
  {
   "cell_type": "markdown",
   "id": "2b3e0c7f-cf1a-4dc3-9150-64c156268419",
   "metadata": {},
   "source": [
    "**Loading the dataset**"
   ]
  },
  {
   "cell_type": "code",
   "execution_count": 7,
   "id": "95273561-3819-4c78-a6ab-223972d69c3b",
   "metadata": {},
   "outputs": [],
   "source": [
    "df=pd.read_csv('C:/classisificatn and regressin/Hands_on.csv',)"
   ]
  },
  {
   "cell_type": "code",
   "execution_count": 8,
   "id": "85f50084-d427-414f-ae2c-4ae216c188e0",
   "metadata": {},
   "outputs": [
    {
     "data": {
      "text/html": [
       "<div>\n",
       "<style scoped>\n",
       "    .dataframe tbody tr th:only-of-type {\n",
       "        vertical-align: middle;\n",
       "    }\n",
       "\n",
       "    .dataframe tbody tr th {\n",
       "        vertical-align: top;\n",
       "    }\n",
       "\n",
       "    .dataframe thead th {\n",
       "        text-align: right;\n",
       "    }\n",
       "</style>\n",
       "<table border=\"1\" class=\"dataframe\">\n",
       "  <thead>\n",
       "    <tr style=\"text-align: right;\">\n",
       "      <th></th>\n",
       "      <th>SAT</th>\n",
       "      <th>GPA</th>\n",
       "    </tr>\n",
       "  </thead>\n",
       "  <tbody>\n",
       "    <tr>\n",
       "      <th>0</th>\n",
       "      <td>1714</td>\n",
       "      <td>2.40</td>\n",
       "    </tr>\n",
       "    <tr>\n",
       "      <th>1</th>\n",
       "      <td>1664</td>\n",
       "      <td>2.52</td>\n",
       "    </tr>\n",
       "    <tr>\n",
       "      <th>2</th>\n",
       "      <td>1760</td>\n",
       "      <td>2.54</td>\n",
       "    </tr>\n",
       "    <tr>\n",
       "      <th>3</th>\n",
       "      <td>1685</td>\n",
       "      <td>2.74</td>\n",
       "    </tr>\n",
       "    <tr>\n",
       "      <th>4</th>\n",
       "      <td>1693</td>\n",
       "      <td>2.83</td>\n",
       "    </tr>\n",
       "  </tbody>\n",
       "</table>\n",
       "</div>"
      ],
      "text/plain": [
       "    SAT   GPA\n",
       "0  1714  2.40\n",
       "1  1664  2.52\n",
       "2  1760  2.54\n",
       "3  1685  2.74\n",
       "4  1693  2.83"
      ]
     },
     "execution_count": 8,
     "metadata": {},
     "output_type": "execute_result"
    }
   ],
   "source": [
    "df.head()"
   ]
  },
  {
   "cell_type": "markdown",
   "id": "e52c815b-093e-4741-ac09-211e7829ca4b",
   "metadata": {},
   "source": [
    "__Providing a summary of the data__"
   ]
  },
  {
   "cell_type": "code",
   "execution_count": 9,
   "id": "dcc427e3-034d-419e-b02e-e26c3cdf3bab",
   "metadata": {},
   "outputs": [
    {
     "data": {
      "text/html": [
       "<div>\n",
       "<style scoped>\n",
       "    .dataframe tbody tr th:only-of-type {\n",
       "        vertical-align: middle;\n",
       "    }\n",
       "\n",
       "    .dataframe tbody tr th {\n",
       "        vertical-align: top;\n",
       "    }\n",
       "\n",
       "    .dataframe thead th {\n",
       "        text-align: right;\n",
       "    }\n",
       "</style>\n",
       "<table border=\"1\" class=\"dataframe\">\n",
       "  <thead>\n",
       "    <tr style=\"text-align: right;\">\n",
       "      <th></th>\n",
       "      <th>SAT</th>\n",
       "      <th>GPA</th>\n",
       "    </tr>\n",
       "  </thead>\n",
       "  <tbody>\n",
       "    <tr>\n",
       "      <th>count</th>\n",
       "      <td>84.000000</td>\n",
       "      <td>84.000000</td>\n",
       "    </tr>\n",
       "    <tr>\n",
       "      <th>mean</th>\n",
       "      <td>1845.273810</td>\n",
       "      <td>3.330238</td>\n",
       "    </tr>\n",
       "    <tr>\n",
       "      <th>std</th>\n",
       "      <td>104.530661</td>\n",
       "      <td>0.271617</td>\n",
       "    </tr>\n",
       "    <tr>\n",
       "      <th>min</th>\n",
       "      <td>1634.000000</td>\n",
       "      <td>2.400000</td>\n",
       "    </tr>\n",
       "    <tr>\n",
       "      <th>25%</th>\n",
       "      <td>1772.000000</td>\n",
       "      <td>3.190000</td>\n",
       "    </tr>\n",
       "    <tr>\n",
       "      <th>50%</th>\n",
       "      <td>1846.000000</td>\n",
       "      <td>3.380000</td>\n",
       "    </tr>\n",
       "    <tr>\n",
       "      <th>75%</th>\n",
       "      <td>1934.000000</td>\n",
       "      <td>3.502500</td>\n",
       "    </tr>\n",
       "    <tr>\n",
       "      <th>max</th>\n",
       "      <td>2050.000000</td>\n",
       "      <td>3.810000</td>\n",
       "    </tr>\n",
       "  </tbody>\n",
       "</table>\n",
       "</div>"
      ],
      "text/plain": [
       "               SAT        GPA\n",
       "count    84.000000  84.000000\n",
       "mean   1845.273810   3.330238\n",
       "std     104.530661   0.271617\n",
       "min    1634.000000   2.400000\n",
       "25%    1772.000000   3.190000\n",
       "50%    1846.000000   3.380000\n",
       "75%    1934.000000   3.502500\n",
       "max    2050.000000   3.810000"
      ]
     },
     "execution_count": 9,
     "metadata": {},
     "output_type": "execute_result"
    }
   ],
   "source": [
    "df.describe()"
   ]
  },
  {
   "cell_type": "markdown",
   "id": "2e8d3421-321f-4721-99b7-e18beb85051a",
   "metadata": {},
   "source": [
    "**Define dependent and independent variables**"
   ]
  },
  {
   "cell_type": "code",
   "execution_count": 11,
   "id": "18817bd4-2b3c-4eb6-aa73-27a91e428387",
   "metadata": {},
   "outputs": [],
   "source": [
    "X = df[['SAT']].values  # Independent variable needs to be in 2D for sklearn\n",
    "y = df['GPA'].values    # Dependent variable"
   ]
  },
  {
   "cell_type": "markdown",
   "id": "b34e0526-a83d-47da-b827-207159a24407",
   "metadata": {},
   "source": [
    "**Create a scatter plot to visually explore the relationship between SAT scores (independent variable) and GPA (dependent variable)**"
   ]
  },
  {
   "cell_type": "code",
   "execution_count": 17,
   "id": "23079365-3747-4bcc-bb92-0386a7599543",
   "metadata": {},
   "outputs": [
    {
     "data": {
      "text/plain": [
       "Text(0.5, 1.0, 'Scatter plot of SAT vs. GPA')"
      ]
     },
     "execution_count": 17,
     "metadata": {},
     "output_type": "execute_result"
    },
    {
     "data": {
      "image/png": "[encoded data removed]",
      "text/plain": [
       "<Figure size 640x480 with 1 Axes>"
      ]
     },
     "metadata": {},
     "output_type": "display_data"
    }
   ],
   "source": [
    "plt.scatter(X, y, color='red', label='Data points')\n",
    "plt.xlabel('SAT Score')\n",
    "plt.ylabel('GPA')\n",
    "plt.title('Scatter plot of SAT vs. GPA')"
   ]
  },
  {
   "cell_type": "markdown",
   "id": "fb3cef3a-cb72-491f-9de0-e1d741db97d1",
   "metadata": {},
   "source": [
    "**Fit a linear regression model using Ordinary Least Squares (OLS) to estimate the coefficients**"
   ]
  },
  {
   "cell_type": "code",
   "execution_count": 19,
   "id": "8e2fdb7d-028c-4c3a-8fa6-0fc9ac3b238e",
   "metadata": {},
   "outputs": [],
   "source": [
    "# This adds a column of ones to x1 to represent the intercept in the linear model\n",
    "X1 = sm.add_constant(X)\n"
   ]
  },
  {
   "cell_type": "code",
   "execution_count": 21,
   "id": "d96ae0d0-9dbb-4fd5-b3c5-1dfdd1e71cc1",
   "metadata": {},
   "outputs": [],
   "source": [
    "# This calculates the best-fit line that minimizes the sum of squared residuals\n",
    "model = sm.OLS(y, X).fit()"
   ]
  },
  {
   "cell_type": "code",
   "execution_count": 22,
   "id": "2832682d-cc64-4db1-979c-b90f0213072f",
   "metadata": {},
   "outputs": [
    {
     "data": {
      "text/html": [
       "<table class=\"simpletable\">\n",
       "<caption>OLS Regression Results</caption>\n",
       "<tr>\n",
       "  <th>Dep. Variable:</th>            <td>y</td>        <th>  R-squared (uncentered):</th>      <td>   0.996</td> \n",
       "</tr>\n",
       "<tr>\n",
       "  <th>Model:</th>                   <td>OLS</td>       <th>  Adj. R-squared (uncentered):</th> <td>   0.996</td> \n",
       "</tr>\n",
       "<tr>\n",
       "  <th>Method:</th>             <td>Least Squares</td>  <th>  F-statistic:       </th>          <td>2.120e+04</td>\n",
       "</tr>\n",
       "<tr>\n",
       "  <th>Date:</th>             <td>Tue, 05 Nov 2024</td> <th>  Prob (F-statistic):</th>          <td>9.38e-102</td>\n",
       "</tr>\n",
       "<tr>\n",
       "  <th>Time:</th>                 <td>11:53:18</td>     <th>  Log-Likelihood:    </th>          <td>  12.440</td> \n",
       "</tr>\n",
       "<tr>\n",
       "  <th>No. Observations:</th>      <td>    84</td>      <th>  AIC:               </th>          <td>  -22.88</td> \n",
       "</tr>\n",
       "<tr>\n",
       "  <th>Df Residuals:</th>          <td>    83</td>      <th>  BIC:               </th>          <td>  -20.45</td> \n",
       "</tr>\n",
       "<tr>\n",
       "  <th>Df Model:</th>              <td>     1</td>      <th>                     </th>              <td> </td>    \n",
       "</tr>\n",
       "<tr>\n",
       "  <th>Covariance Type:</th>      <td>nonrobust</td>    <th>                     </th>              <td> </td>    \n",
       "</tr>\n",
       "</table>\n",
       "<table class=\"simpletable\">\n",
       "<tr>\n",
       "   <td></td>     <th>coef</th>     <th>std err</th>      <th>t</th>      <th>P>|t|</th>  <th>[0.025</th>    <th>0.975]</th>  \n",
       "</tr>\n",
       "<tr>\n",
       "  <th>x1</th> <td>    0.0018</td> <td> 1.24e-05</td> <td>  145.594</td> <td> 0.000</td> <td>    0.002</td> <td>    0.002</td>\n",
       "</tr>\n",
       "</table>\n",
       "<table class=\"simpletable\">\n",
       "<tr>\n",
       "  <th>Omnibus:</th>       <td> 9.848</td> <th>  Durbin-Watson:     </th> <td>   1.116</td>\n",
       "</tr>\n",
       "<tr>\n",
       "  <th>Prob(Omnibus):</th> <td> 0.007</td> <th>  Jarque-Bera (JB):  </th> <td>  11.422</td>\n",
       "</tr>\n",
       "<tr>\n",
       "  <th>Skew:</th>          <td>-0.594</td> <th>  Prob(JB):          </th> <td> 0.00331</td>\n",
       "</tr>\n",
       "<tr>\n",
       "  <th>Kurtosis:</th>      <td> 4.361</td> <th>  Cond. No.          </th> <td>    1.00</td>\n",
       "</tr>\n",
       "</table><br/><br/>Notes:<br/>[1] R² is computed without centering (uncentered) since the model does not contain a constant.<br/>[2] Standard Errors assume that the covariance matrix of the errors is correctly specified."
      ],
      "text/latex": [
       "\\begin{center}\n",
       "\\begin{tabular}{lclc}\n",
       "\\toprule\n",
       "\\textbf{Dep. Variable:}    &        y         & \\textbf{  R-squared (uncentered):}      &     0.996   \\\\\n",
       "\\textbf{Model:}            &       OLS        & \\textbf{  Adj. R-squared (uncentered):} &     0.996   \\\\\n",
       "\\textbf{Method:}           &  Least Squares   & \\textbf{  F-statistic:       }          & 2.120e+04   \\\\\n",
       "\\textbf{Date:}             & Tue, 05 Nov 2024 & \\textbf{  Prob (F-statistic):}          & 9.38e-102   \\\\\n",
       "\\textbf{Time:}             &     11:53:18     & \\textbf{  Log-Likelihood:    }          &    12.440   \\\\\n",
       "\\textbf{No. Observations:} &          84      & \\textbf{  AIC:               }          &    -22.88   \\\\\n",
       "\\textbf{Df Residuals:}     &          83      & \\textbf{  BIC:               }          &    -20.45   \\\\\n",
       "\\textbf{Df Model:}         &           1      & \\textbf{                     }          &             \\\\\n",
       "\\textbf{Covariance Type:}  &    nonrobust     & \\textbf{                     }          &             \\\\\n",
       "\\bottomrule\n",
       "\\end{tabular}\n",
       "\\begin{tabular}{lcccccc}\n",
       "            & \\textbf{coef} & \\textbf{std err} & \\textbf{t} & \\textbf{P$> |$t$|$} & \\textbf{[0.025} & \\textbf{0.975]}  \\\\\n",
       "\\midrule\n",
       "\\textbf{x1} &       0.0018  &     1.24e-05     &   145.594  &         0.000        &        0.002    &        0.002     \\\\\n",
       "\\bottomrule\n",
       "\\end{tabular}\n",
       "\\begin{tabular}{lclc}\n",
       "\\textbf{Omnibus:}       &  9.848 & \\textbf{  Durbin-Watson:     } &    1.116  \\\\\n",
       "\\textbf{Prob(Omnibus):} &  0.007 & \\textbf{  Jarque-Bera (JB):  } &   11.422  \\\\\n",
       "\\textbf{Skew:}          & -0.594 & \\textbf{  Prob(JB):          } &  0.00331  \\\\\n",
       "\\textbf{Kurtosis:}      &  4.361 & \\textbf{  Cond. No.          } &     1.00  \\\\\n",
       "\\bottomrule\n",
       "\\end{tabular}\n",
       "%\\caption{OLS Regression Results}\n",
       "\\end{center}\n",
       "\n",
       "Notes: \\newline\n",
       " [1] R² is computed without centering (uncentered) since the model does not contain a constant. \\newline\n",
       " [2] Standard Errors assume that the covariance matrix of the errors is correctly specified."
      ],
      "text/plain": [
       "<class 'statsmodels.iolib.summary.Summary'>\n",
       "\"\"\"\n",
       "                                 OLS Regression Results                                \n",
       "=======================================================================================\n",
       "Dep. Variable:                      y   R-squared (uncentered):                   0.996\n",
       "Model:                            OLS   Adj. R-squared (uncentered):              0.996\n",
       "Method:                 Least Squares   F-statistic:                          2.120e+04\n",
       "Date:                Tue, 05 Nov 2024   Prob (F-statistic):                   9.38e-102\n",
       "Time:                        11:53:18   Log-Likelihood:                          12.440\n",
       "No. Observations:                  84   AIC:                                     -22.88\n",
       "Df Residuals:                      83   BIC:                                     -20.45\n",
       "Df Model:                           1                                                  \n",
       "Covariance Type:            nonrobust                                                  \n",
       "==============================================================================\n",
       "                 coef    std err          t      P>|t|      [0.025      0.975]\n",
       "------------------------------------------------------------------------------\n",
       "x1             0.0018   1.24e-05    145.594      0.000       0.002       0.002\n",
       "==============================================================================\n",
       "Omnibus:                        9.848   Durbin-Watson:                   1.116\n",
       "Prob(Omnibus):                  0.007   Jarque-Bera (JB):               11.422\n",
       "Skew:                          -0.594   Prob(JB):                      0.00331\n",
       "Kurtosis:                       4.361   Cond. No.                         1.00\n",
       "==============================================================================\n",
       "\n",
       "Notes:\n",
       "[1] R² is computed without centering (uncentered) since the model does not contain a constant.\n",
       "[2] Standard Errors assume that the covariance matrix of the errors is correctly specified.\n",
       "\"\"\""
      ]
     },
     "execution_count": 22,
     "metadata": {},
     "output_type": "execute_result"
    }
   ],
   "source": [
    "model.summary()"
   ]
  },
  {
   "cell_type": "markdown",
   "id": "1dee92d3-966d-465f-9ed3-08dded304bc4",
   "metadata": {},
   "source": [
    "**The p-value for x1 is 0.000**, which is very low, implying that SAT is a statistically significant predictor of GPA\n",
    "**The coefficient for x1 (SAT) is 0.0018**. This means that for every additional point in SAT, the GPA is expected to increase by 0.0018 points, holding all else constant\n",
    "**The R-squared value is 0.996**,This suggests a very strong linear relationship between SAT and GPA.\n",
    "**The Adjusted R-squared is also 0.996**,Since we only have one predictor, the adjusted R-squared doesn’t differ much from the R-squared.\n",
    "**The F-statistic is very high (2.120e+04),e p-value (9.38e-102) is extremely low**.This means the model is highly statistically significant, and the predictor (SAT) provides a meaningful explanation of GPA.\n"
   ]
  },
  {
   "cell_type": "markdown",
   "id": "e8e0e261-a2fd-49ff-a885-f7a78e3efcad",
   "metadata": {},
   "source": [
    "**Plot the regression line on top of the scatter plot**"
   ]
  },
  {
   "cell_type": "code",
   "execution_count": 26,
   "id": "a26cf80f-b2f9-41c7-a176-666e733612d3",
   "metadata": {},
   "outputs": [
    {
     "data": {
      "image/png": "[encoded data removed]",
      "text/plain": [
       "<Figure size 640x480 with 1 Axes>"
      ]
     },
     "metadata": {},
     "output_type": "display_data"
    }
   ],
   "source": [
    "plt.scatter(X, y, color='blue', label='Data points')  # Plotting the data points again\n",
    "plt.plot(X, model.predict(X), color='orange', label='Regression line')  # Plotting the OLS regression line\n",
    "plt.xlabel('SAT Score')\n",
    "plt.ylabel('GPA')\n",
    "plt.title('Scatter plot of SAT vs. GPA with OLS Regression Line')\n",
    "plt.legend()\n",
    "plt.show()\n",
    "#Overlay the regression line on the scatter plot. This line represents the predicted GPA for given SAT scores."
   ]
  },
  {
   "cell_type": "code",
   "execution_count": null,
   "id": "75f7f172-07bb-46db-adf2-7d7d1c72e8e0",
   "metadata": {},
   "outputs": [],
   "source": []
  }
 ],
 "metadata": {
  "kernelspec": {
   "display_name": "Python 3 (ipykernel)",
   "language": "python",
   "name": "python3"
  },
  "language_info": {
   "codemirror_mode": {
    "name": "ipython",
    "version": 3
   },
   "file_extension": ".py",
   "mimetype": "text/x-python",
   "name": "python",
   "nbconvert_exporter": "python",
   "pygments_lexer": "ipython3",
   "version": "3.9.13"
  }
 },
 "nbformat": 4,
 "nbformat_minor": 5
}
