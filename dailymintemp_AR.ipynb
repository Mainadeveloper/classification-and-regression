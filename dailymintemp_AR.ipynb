{
 "cells": [
  {
   "cell_type": "code",
   "execution_count": 4,
   "id": "b8598ba6-e968-4c29-97f3-888258a4deea",
   "metadata": {},
   "outputs": [
    {
     "name": "stdout",
     "output_type": "stream",
     "text": [
      "Requirement already satisfied: statsmodels in c:\\users\\maina\\appdata\\local\\programs\\python\\python39\\lib\\site-packages (0.14.4)\n",
      "Requirement already satisfied: numpy<3,>=1.22.3 in c:\\users\\maina\\appdata\\local\\programs\\python\\python39\\lib\\site-packages (from statsmodels) (1.26.4)\n",
      "Requirement already satisfied: scipy!=1.9.2,>=1.8 in c:\\users\\maina\\appdata\\local\\programs\\python\\python39\\lib\\site-packages (from statsmodels) (1.13.1)\n",
      "Requirement already satisfied: pandas!=2.1.0,>=1.4 in c:\\users\\maina\\appdata\\local\\programs\\python\\python39\\lib\\site-packages (from statsmodels) (2.2.2)\n",
      "Requirement already satisfied: patsy>=0.5.6 in c:\\users\\maina\\appdata\\local\\programs\\python\\python39\\lib\\site-packages (from statsmodels) (0.5.6)\n",
      "Requirement already satisfied: packaging>=21.3 in c:\\users\\maina\\appdata\\local\\programs\\python\\python39\\lib\\site-packages (from statsmodels) (24.1)\n",
      "Requirement already satisfied: python-dateutil>=2.8.2 in c:\\users\\maina\\appdata\\local\\programs\\python\\python39\\lib\\site-packages (from pandas!=2.1.0,>=1.4->statsmodels) (2.9.0.post0)\n",
      "Requirement already satisfied: pytz>=2020.1 in c:\\users\\maina\\appdata\\local\\programs\\python\\python39\\lib\\site-packages (from pandas!=2.1.0,>=1.4->statsmodels) (2024.2)\n",
      "Requirement already satisfied: tzdata>=2022.7 in c:\\users\\maina\\appdata\\local\\programs\\python\\python39\\lib\\site-packages (from pandas!=2.1.0,>=1.4->statsmodels) (2024.1)\n",
      "Requirement already satisfied: six in c:\\users\\maina\\appdata\\local\\programs\\python\\python39\\lib\\site-packages (from patsy>=0.5.6->statsmodels) (1.16.0)\n",
      "Requirement already satisfied: scikit-learn in c:\\users\\maina\\appdata\\local\\programs\\python\\python39\\lib\\site-packages (1.5.2)\n",
      "Requirement already satisfied: numpy>=1.19.5 in c:\\users\\maina\\appdata\\local\\programs\\python\\python39\\lib\\site-packages (from scikit-learn) (1.26.4)\n",
      "Requirement already satisfied: scipy>=1.6.0 in c:\\users\\maina\\appdata\\local\\programs\\python\\python39\\lib\\site-packages (from scikit-learn) (1.13.1)\n",
      "Requirement already satisfied: joblib>=1.2.0 in c:\\users\\maina\\appdata\\local\\programs\\python\\python39\\lib\\site-packages (from scikit-learn) (1.4.2)\n",
      "Requirement already satisfied: threadpoolctl>=3.1.0 in c:\\users\\maina\\appdata\\local\\programs\\python\\python39\\lib\\site-packages (from scikit-learn) (3.5.0)\n"
     ]
    }
   ],
   "source": [
    "!pip install statsmodels\n",
    "!pip install scikit-learn\n",
    "\n"
   ]
  },
  {
   "cell_type": "code",
   "execution_count": 5,
   "id": "351aed50-03ad-4a6e-86aa-28b77067d620",
   "metadata": {},
   "outputs": [],
   "source": [
    "from pandas import read_csv\n",
    "import pandas as pd\n",
    "from matplotlib import pyplot\n",
    "from statsmodels.tsa.ar_model import AutoReg\n",
    "from sklearn.metrics import mean_squared_error\n",
    "from math import sqrt\n",
    "\n"
   ]
  },
  {
   "cell_type": "code",
   "execution_count": 6,
   "id": "52ae400c-abb7-433e-a83a-e247662c1773",
   "metadata": {},
   "outputs": [],
   "source": [
    "#load dataset\n",
    "new_df=pd.read_csv('C:/classisificatn and regressin/daily-min-temperatures.csv' ,header=0,index_col=0,parse_dates=True)"
   ]
  },
  {
   "cell_type": "code",
   "execution_count": 7,
   "id": "460ab47d-b083-4fa3-91bf-dd1ee250a569",
   "metadata": {},
   "outputs": [
    {
     "data": {
      "text/html": [
       "<div>\n",
       "<style scoped>\n",
       "    .dataframe tbody tr th:only-of-type {\n",
       "        vertical-align: middle;\n",
       "    }\n",
       "\n",
       "    .dataframe tbody tr th {\n",
       "        vertical-align: top;\n",
       "    }\n",
       "\n",
       "    .dataframe thead th {\n",
       "        text-align: right;\n",
       "    }\n",
       "</style>\n",
       "<table border=\"1\" class=\"dataframe\">\n",
       "  <thead>\n",
       "    <tr style=\"text-align: right;\">\n",
       "      <th></th>\n",
       "      <th>Temp</th>\n",
       "    </tr>\n",
       "    <tr>\n",
       "      <th>Date</th>\n",
       "      <th></th>\n",
       "    </tr>\n",
       "  </thead>\n",
       "  <tbody>\n",
       "    <tr>\n",
       "      <th>1981-01-01</th>\n",
       "      <td>20.7</td>\n",
       "    </tr>\n",
       "    <tr>\n",
       "      <th>1981-01-02</th>\n",
       "      <td>17.9</td>\n",
       "    </tr>\n",
       "    <tr>\n",
       "      <th>1981-01-03</th>\n",
       "      <td>18.8</td>\n",
       "    </tr>\n",
       "    <tr>\n",
       "      <th>1981-01-04</th>\n",
       "      <td>14.6</td>\n",
       "    </tr>\n",
       "    <tr>\n",
       "      <th>1981-01-05</th>\n",
       "      <td>15.8</td>\n",
       "    </tr>\n",
       "  </tbody>\n",
       "</table>\n",
       "</div>"
      ],
      "text/plain": [
       "            Temp\n",
       "Date            \n",
       "1981-01-01  20.7\n",
       "1981-01-02  17.9\n",
       "1981-01-03  18.8\n",
       "1981-01-04  14.6\n",
       "1981-01-05  15.8"
      ]
     },
     "execution_count": 7,
     "metadata": {},
     "output_type": "execute_result"
    }
   ],
   "source": [
    "#view loaded dataset\n",
    "new_df.head()"
   ]
  },
  {
   "cell_type": "code",
   "execution_count": 8,
   "id": "888e7dec-4837-44f2-94db-71597fde913c",
   "metadata": {},
   "outputs": [],
   "source": [
    "#split dataset\n",
    "X=new_df.values\n",
    "new_train,new_test=X[1:len(X)-7],X[len(X)-7:] # the training dataset Contains data from index1 to the last seven datasets and the test data sets Contains data from only the last 7datasets "
   ]
  },
  {
   "cell_type": "code",
   "execution_count": 9,
   "id": "4e17c74e-4d6b-4838-ab57-b2e11cd51ea7",
   "metadata": {},
   "outputs": [
    {
     "name": "stdout",
     "output_type": "stream",
     "text": [
      "Coefficients:[ 5.57543506e-01  5.88595221e-01 -9.08257090e-02  4.82615092e-02\n",
      "  4.00650265e-02  3.93020055e-02  2.59463738e-02  4.46675960e-02\n",
      "  1.27681498e-02  3.74362239e-02 -8.11700276e-04  4.79081949e-03\n",
      "  1.84731397e-02  2.68908418e-02  5.75906178e-04  2.48096415e-02\n",
      "  7.40316579e-03  9.91622149e-03  3.41599123e-02 -9.11961877e-03\n",
      "  2.42127561e-02  1.87870751e-02  1.21841870e-02 -1.85534575e-02\n",
      " -1.77162867e-03  1.67319894e-02  1.97615668e-02  9.83245087e-03\n",
      "  6.22710723e-03 -1.37732255e-03]\n"
     ]
    }
   ],
   "source": [
    "#train autoregression\n",
    "ARmodel=AutoReg(new_train,lags=29)#The AR model uses the previous 29 data points to predict future values\n",
    "ARmodel_fit=ARmodel.fit()#The fit() method estimates the influence of those 29 previous time points.\n",
    "print('Coefficients:%s' %ARmodel_fit.params)#The params attribute contains the coefficients that describe the relationship between the current value and the 29 previous values."
   ]
  },
  {
   "cell_type": "code",
   "execution_count": 16,
   "id": "a299f570-53fb-41ef-bdc0-4f982c760794",
   "metadata": {},
   "outputs": [
    {
     "name": "stdout",
     "output_type": "stream",
     "text": [
      "predicted11.871275,expected12.900000\n",
      "predicted13.053794,expected14.600000\n",
      "predicted13.532591,expected14.000000\n",
      "predicted13.243126,expected13.600000\n",
      "predicted13.091438,expected13.500000\n",
      "predicted13.146989,expected15.700000\n",
      "predicted13.176153,expected13.000000\n",
      "test Rmse:1.225\n"
     ]
    }
   ],
   "source": [
    "#Make predictions\n",
    "new_predictions=ARmodel_fit.predict(start=len(new_train),end=len(new_train)+len(new_test)-1,dynamic=False)\n",
    "# Use the fitted AR model to predict values starting from the end of the training set and ends after the length of the test data.\n",
    "# The predictions cover the length of the test data.\n",
    "# dynamic=False means the model makes predictions based on actual historical values, not prior predictions.\n",
    "\n",
    "for i in range(len(new_predictions)):# Loop through the predicted values and print each one alongside the corresponding actual test value.   \n",
    " print('predicted%f,expected%f' % (new_predictions[i].item(),new_test[i].item()))  # Use .item() to extract the scalar value from the NumPy array elements\n",
    "rmse=sqrt(mean_squared_error(new_test,new_predictions))# Calculate the Root Mean Squared Error (RMSE) to assess how well the model's predictions match the actual values.\n",
    "print('test Rmse:%.3F'%rmse)# Print the RMSE value with three decimal places to show the accuracy of the predictions."
   ]
  },
  {
   "cell_type": "code",
   "execution_count": 13,
   "id": "c520aa53-e143-47ba-a657-fd59dd1b096f",
   "metadata": {},
   "outputs": [
    {
     "data": {
      "text/plain": [
       "[<matplotlib.lines.Line2D at 0x119d4b911c0>]"
      ]
     },
     "execution_count": 13,
     "metadata": {},
     "output_type": "execute_result"
    },
    {
     "data": {
      "image/png": "[encoded data removed]",
      "text/plain": [
       "<Figure size 640x480 with 1 Axes>"
      ]
     },
     "metadata": {},
     "output_type": "display_data"
    }
   ],
   "source": [
    "#plot results\n",
    "pyplot.plot (new_test)\n",
    "pyplot.plot (new_predictions,color='red')"
   ]
  },
  {
   "cell_type": "code",
   "execution_count": 14,
   "id": "f31d4e49-b3ee-443e-90a0-5a0ac6e93b1f",
   "metadata": {},
   "outputs": [],
   "source": [
    "#create and evaluate an updated autoregressive model\n",
    "from pandas import read_csv\n",
    "import pandas as pd\n",
    "from matplotlib import pyplot\n",
    "from statsmodels.tsa.ar_model import AutoReg\n",
    "from sklearn.metrics import mean_squared_error\n",
    "from math import sqrt\n"
   ]
  },
  {
   "cell_type": "code",
   "execution_count": 17,
   "id": "9aec6606-14e6-46f8-a626-39b03ea309ef",
   "metadata": {},
   "outputs": [],
   "source": [
    "#load dataset\n",
    "new_df=pd.read_csv('C:/classisificatn and regressin/daily-min-temperatures.csv' ,header=0,index_col=0,parse_dates=True)"
   ]
  },
  {
   "cell_type": "code",
   "execution_count": 18,
   "id": "cdfac5f2-76fd-4181-a0ee-a59eb5927e81",
   "metadata": {},
   "outputs": [],
   "source": [
    "#split dataset\n",
    "X=new_df.values\n",
    "new_train,new_test=X[1:len(X)-7],X[len(X)-7:] # the training dataset Contains data from index1 to the last seven datasets and the test data sets Contains data from only the last 7datasets "
   ]
  },
  {
   "cell_type": "code",
   "execution_count": 19,
   "id": "40d57e93-35ae-4736-a28c-5f39d0910a66",
   "metadata": {},
   "outputs": [],
   "source": [
    "#train Autoregression\n",
    "lag_window=29\n",
    "ARmodel=AutoReg(new_train,lags=29)#The AR model uses the previous 29 data points to predict future values\n",
    "ARmodel_fit=ARmodel.fit()#The fit() method estimates the influence of those 29 previous time points.\n",
    "coef=ARmodel_fit.params \n"
   ]
  },
  {
   "cell_type": "code",
   "execution_count": 22,
   "id": "1523f845-398f-423b-a016-d0b2f84aab9c",
   "metadata": {},
   "outputs": [],
   "source": [
    "#walk forward over time steps in test\n",
    "history=new_train[len(new_train)-lag_window:]# This extracts the last 'lag_window' number of data points from 'new_train'.\n",
    "history=[history[i] for i in range(len(history))]# It loops through each element in 'history' and stores them in a new list.\n",
    "new_predictions=list()# Initializes an empty list called 'new_predictions'.\n",
    "\n"
   ]
  },
  {
   "cell_type": "code",
   "execution_count": 34,
   "id": "0126116c-cf01-4e49-9f56-d4d6f916cea2",
   "metadata": {},
   "outputs": [
    {
     "name": "stdout",
     "output_type": "stream",
     "text": [
      "predicted=14.816416, expected=13.000000\n"
     ]
    },
    {
     "name": "stderr",
     "output_type": "stream",
     "text": [
      "C:\\Users\\maina\\AppData\\Local\\Temp\\ipykernel_1912\\2761674901.py:21: DeprecationWarning: Conversion of an array with ndim > 0 to a scalar is deprecated, and will error in future. Ensure you extract a single element from your array before performing this operation. (Deprecated NumPy 1.25.)\n",
      "  print('predicted=%f, expected=%f' % (yhat, obs))\n"
     ]
    }
   ],
   "source": [
    "for t in range(len(new_test)):  \n",
    "    # Loop through each element in the test data (new_test). 't' is the index for the test dataset.\n",
    "    length = len(history)  \n",
    "    # Get the current length of 'history', which stores past observations (both training data and predictions).\n",
    "    lag = [history[i] for i in range(length - lag_window, length)]  \n",
    "    # Create the 'lag' list that contains the most recent 'lag_window' number of data points from 'history'.\n",
    "    # 'lag_window' is the number of previous data points (lags) used for prediction.\n",
    "    yhat = coef[0]  \n",
    "    # Initialize 'yhat', the predicted value. Start with the intercept (coef[0]), the base prediction before adding lag terms.\n",
    "    for d in range(lag_window):  \n",
    "        # Loop through each of the lag terms, iterating from 0 to 'lag_window-1'. \n",
    "     yhat += coef[d + 1] * lag[lag_window - d - 1]  \n",
    "        # For each lag, update 'yhat' by adding the coefficient (coef[d+1]) multiplied by the corresponding lag value.\n",
    "        # 'lag[lag_window - d - 1]' accesses the lagged data in reverse order, matching the AR model's logic.\n",
    "    obs = new_test[t]  \n",
    "    # Get the actual observation (ground truth) from the test dataset for the current index 't'.\n",
    "    new_predictions.append(yhat)  \n",
    "    # Append the predicted value 'yhat' to the list of predictions ('new_predictions').\n",
    "    history.append(obs)  \n",
    "    # Add the actual observed value ('obs') to 'history' for future predictions. This updates the history with the latest data point.\n",
    "print('predicted=%f, expected=%f' % (yhat, obs))  \n",
    "# After the loop, print the final predicted value 'yhat' and the corresponding actual test value 'obs'.\n",
    "\n",
    "    \n",
    "    \n"
   ]
  },
  {
   "cell_type": "code",
   "execution_count": 35,
   "id": "2850cea5-582a-43ff-9d46-1fca6c78d0f0",
   "metadata": {},
   "outputs": [
    {
     "name": "stdout",
     "output_type": "stream",
     "text": [
      "Test RMSE: 1.204\n"
     ]
    }
   ],
   "source": [
    "# Ensure new_predictions and new_test have the same length\n",
    "min_length = min(len(new_test), len(new_predictions))\n",
    "new_test_trimmed = new_test[:min_length]\n",
    "new_predictions_trimmed = new_predictions[:min_length]\n",
    "\n",
    "# Now calculate RMSE with trimmed arrays\n",
    "rmse = sqrt(mean_squared_error(new_test_trimmed, new_predictions_trimmed))\n",
    "print('Test RMSE: %.3F' % rmse)\n",
    "#the second RMSE from walk-forward validation is usually more realistic and often higher than the first RMSE\n"
   ]
  },
  {
   "cell_type": "code",
   "execution_count": 26,
   "id": "0cfd6d19-96fa-4376-af30-3b522c9e391e",
   "metadata": {},
   "outputs": [
    {
     "data": {
      "image/png": "[encoded data removed]",
      "text/plain": [
       "<Figure size 640x480 with 1 Axes>"
      ]
     },
     "metadata": {},
     "output_type": "display_data"
    }
   ],
   "source": [
    "pyplot.plot (new_test)\n",
    "pyplot.plot (new_predictions,color='red')\n",
    "pyplot.show()"
   ]
  },
  {
   "cell_type": "code",
   "execution_count": null,
   "id": "43fdeccf-ac54-4932-b42a-364e3b11a925",
   "metadata": {},
   "outputs": [],
   "source": []
  }
 ],
 "metadata": {
  "kernelspec": {
   "display_name": "Python 3 (ipykernel)",
   "language": "python",
   "name": "python3"
  },
  "language_info": {
   "codemirror_mode": {
    "name": "ipython",
    "version": 3
   },
   "file_extension": ".py",
   "mimetype": "text/x-python",
   "name": "python",
   "nbconvert_exporter": "python",
   "pygments_lexer": "ipython3",
   "version": "3.9.13"
  }
 },
 "nbformat": 4,
 "nbformat_minor": 5
}
