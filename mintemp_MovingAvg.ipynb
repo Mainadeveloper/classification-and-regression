{
 "cells": [
  {
   "cell_type": "code",
   "execution_count": 3,
   "id": "a842f530-1b6b-4692-be87-b56141bbe71e",
   "metadata": {},
   "outputs": [
    {
     "name": "stdout",
     "output_type": "stream",
     "text": [
      "Requirement already satisfied: statsmodels in c:\\users\\maina\\appdata\\local\\programs\\python\\python39\\lib\\site-packages (0.14.4)\n",
      "Requirement already satisfied: numpy<3,>=1.22.3 in c:\\users\\maina\\appdata\\local\\programs\\python\\python39\\lib\\site-packages (from statsmodels) (1.26.4)\n",
      "Requirement already satisfied: scipy!=1.9.2,>=1.8 in c:\\users\\maina\\appdata\\local\\programs\\python\\python39\\lib\\site-packages (from statsmodels) (1.13.1)\n",
      "Requirement already satisfied: pandas!=2.1.0,>=1.4 in c:\\users\\maina\\appdata\\local\\programs\\python\\python39\\lib\\site-packages (from statsmodels) (2.2.2)\n",
      "Requirement already satisfied: patsy>=0.5.6 in c:\\users\\maina\\appdata\\local\\programs\\python\\python39\\lib\\site-packages (from statsmodels) (0.5.6)\n",
      "Requirement already satisfied: packaging>=21.3 in c:\\users\\maina\\appdata\\local\\programs\\python\\python39\\lib\\site-packages (from statsmodels) (24.1)\n",
      "Requirement already satisfied: python-dateutil>=2.8.2 in c:\\users\\maina\\appdata\\local\\programs\\python\\python39\\lib\\site-packages (from pandas!=2.1.0,>=1.4->statsmodels) (2.9.0.post0)\n",
      "Requirement already satisfied: pytz>=2020.1 in c:\\users\\maina\\appdata\\local\\programs\\python\\python39\\lib\\site-packages (from pandas!=2.1.0,>=1.4->statsmodels) (2024.2)\n",
      "Requirement already satisfied: tzdata>=2022.7 in c:\\users\\maina\\appdata\\local\\programs\\python\\python39\\lib\\site-packages (from pandas!=2.1.0,>=1.4->statsmodels) (2024.1)\n",
      "Requirement already satisfied: six in c:\\users\\maina\\appdata\\local\\programs\\python\\python39\\lib\\site-packages (from patsy>=0.5.6->statsmodels) (1.16.0)\n",
      "Requirement already satisfied: scikit-learn in c:\\users\\maina\\appdata\\local\\programs\\python\\python39\\lib\\site-packages (1.5.2)\n",
      "Requirement already satisfied: numpy>=1.19.5 in c:\\users\\maina\\appdata\\local\\programs\\python\\python39\\lib\\site-packages (from scikit-learn) (1.26.4)\n",
      "Requirement already satisfied: scipy>=1.6.0 in c:\\users\\maina\\appdata\\local\\programs\\python\\python39\\lib\\site-packages (from scikit-learn) (1.13.1)\n",
      "Requirement already satisfied: joblib>=1.2.0 in c:\\users\\maina\\appdata\\local\\programs\\python\\python39\\lib\\site-packages (from scikit-learn) (1.4.2)\n",
      "Requirement already satisfied: threadpoolctl>=3.1.0 in c:\\users\\maina\\appdata\\local\\programs\\python\\python39\\lib\\site-packages (from scikit-learn) (3.5.0)\n"
     ]
    }
   ],
   "source": [
    "!pip install statsmodels\n",
    "!pip install scikit-learn"
   ]
  },
  {
   "cell_type": "code",
   "execution_count": null,
   "id": "a0044117-eff9-4308-8dfc-3fa927d6dadd",
   "metadata": {},
   "outputs": [],
   "source": [
    "from pandas import read_csv\n",
    "import pandas as pd\n",
    "from matplotlib import pyplot\n",
    "from statsmodels.tsa.ar_model import AutoReg\n",
    "from sklearn.metrics import mean_squared_error\n",
    "from math import sqrt"
   ]
  },
  {
   "cell_type": "code",
   "execution_count": 5,
   "id": "bd74f6ce-232e-40e6-92c3-7c5030876bf0",
   "metadata": {},
   "outputs": [],
   "source": [
    "#load dataset\n",
    "new_df=pd.read_csv('C:/classisificatn and regressin/daily-min-temperatures.csv' ,header=0,parse_dates=True)"
   ]
  },
  {
   "cell_type": "code",
   "execution_count": 6,
   "id": "707af47a-021a-4e06-8906-73f0f6868bca",
   "metadata": {},
   "outputs": [
    {
     "data": {
      "text/html": [
       "<div>\n",
       "<style scoped>\n",
       "    .dataframe tbody tr th:only-of-type {\n",
       "        vertical-align: middle;\n",
       "    }\n",
       "\n",
       "    .dataframe tbody tr th {\n",
       "        vertical-align: top;\n",
       "    }\n",
       "\n",
       "    .dataframe thead th {\n",
       "        text-align: right;\n",
       "    }\n",
       "</style>\n",
       "<table border=\"1\" class=\"dataframe\">\n",
       "  <thead>\n",
       "    <tr style=\"text-align: right;\">\n",
       "      <th></th>\n",
       "      <th>Date</th>\n",
       "      <th>Temp</th>\n",
       "    </tr>\n",
       "  </thead>\n",
       "  <tbody>\n",
       "    <tr>\n",
       "      <th>0</th>\n",
       "      <td>1981-01-01</td>\n",
       "      <td>20.7</td>\n",
       "    </tr>\n",
       "    <tr>\n",
       "      <th>1</th>\n",
       "      <td>1981-01-02</td>\n",
       "      <td>17.9</td>\n",
       "    </tr>\n",
       "    <tr>\n",
       "      <th>2</th>\n",
       "      <td>1981-01-03</td>\n",
       "      <td>18.8</td>\n",
       "    </tr>\n",
       "    <tr>\n",
       "      <th>3</th>\n",
       "      <td>1981-01-04</td>\n",
       "      <td>14.6</td>\n",
       "    </tr>\n",
       "    <tr>\n",
       "      <th>4</th>\n",
       "      <td>1981-01-05</td>\n",
       "      <td>15.8</td>\n",
       "    </tr>\n",
       "  </tbody>\n",
       "</table>\n",
       "</div>"
      ],
      "text/plain": [
       "         Date  Temp\n",
       "0  1981-01-01  20.7\n",
       "1  1981-01-02  17.9\n",
       "2  1981-01-03  18.8\n",
       "3  1981-01-04  14.6\n",
       "4  1981-01-05  15.8"
      ]
     },
     "execution_count": 6,
     "metadata": {},
     "output_type": "execute_result"
    }
   ],
   "source": [
    "new_df.head()"
   ]
  },
  {
   "cell_type": "code",
   "execution_count": 7,
   "id": "55214272-f0d9-48cc-bd49-173274183f31",
   "metadata": {},
   "outputs": [],
   "source": [
    "new_df['t']=new_df['Temp'].shift(1)"
   ]
  },
  {
   "cell_type": "code",
   "execution_count": 8,
   "id": "a2f82043-d9c8-4a65-9374-7927863b42ef",
   "metadata": {},
   "outputs": [
    {
     "data": {
      "text/html": [
       "<div>\n",
       "<style scoped>\n",
       "    .dataframe tbody tr th:only-of-type {\n",
       "        vertical-align: middle;\n",
       "    }\n",
       "\n",
       "    .dataframe tbody tr th {\n",
       "        vertical-align: top;\n",
       "    }\n",
       "\n",
       "    .dataframe thead th {\n",
       "        text-align: right;\n",
       "    }\n",
       "</style>\n",
       "<table border=\"1\" class=\"dataframe\">\n",
       "  <thead>\n",
       "    <tr style=\"text-align: right;\">\n",
       "      <th></th>\n",
       "      <th>Date</th>\n",
       "      <th>Temp</th>\n",
       "      <th>t</th>\n",
       "    </tr>\n",
       "  </thead>\n",
       "  <tbody>\n",
       "    <tr>\n",
       "      <th>0</th>\n",
       "      <td>1981-01-01</td>\n",
       "      <td>20.7</td>\n",
       "      <td>NaN</td>\n",
       "    </tr>\n",
       "    <tr>\n",
       "      <th>1</th>\n",
       "      <td>1981-01-02</td>\n",
       "      <td>17.9</td>\n",
       "      <td>20.7</td>\n",
       "    </tr>\n",
       "    <tr>\n",
       "      <th>2</th>\n",
       "      <td>1981-01-03</td>\n",
       "      <td>18.8</td>\n",
       "      <td>17.9</td>\n",
       "    </tr>\n",
       "    <tr>\n",
       "      <th>3</th>\n",
       "      <td>1981-01-04</td>\n",
       "      <td>14.6</td>\n",
       "      <td>18.8</td>\n",
       "    </tr>\n",
       "    <tr>\n",
       "      <th>4</th>\n",
       "      <td>1981-01-05</td>\n",
       "      <td>15.8</td>\n",
       "      <td>14.6</td>\n",
       "    </tr>\n",
       "  </tbody>\n",
       "</table>\n",
       "</div>"
      ],
      "text/plain": [
       "         Date  Temp     t\n",
       "0  1981-01-01  20.7   NaN\n",
       "1  1981-01-02  17.9  20.7\n",
       "2  1981-01-03  18.8  17.9\n",
       "3  1981-01-04  14.6  18.8\n",
       "4  1981-01-05  15.8  14.6"
      ]
     },
     "execution_count": 8,
     "metadata": {},
     "output_type": "execute_result"
    }
   ],
   "source": [
    "new_df.head()\n"
   ]
  },
  {
   "cell_type": "code",
   "execution_count": 9,
   "id": "91a294bc-c727-486e-9e9c-5b7dbf756b76",
   "metadata": {},
   "outputs": [],
   "source": [
    "new_df['resid']=new_df['Temp']-new_df['t']"
   ]
  },
  {
   "cell_type": "code",
   "execution_count": 10,
   "id": "54f29d81-9ebf-4471-9591-af53b5e85614",
   "metadata": {},
   "outputs": [
    {
     "data": {
      "text/html": [
       "<div>\n",
       "<style scoped>\n",
       "    .dataframe tbody tr th:only-of-type {\n",
       "        vertical-align: middle;\n",
       "    }\n",
       "\n",
       "    .dataframe tbody tr th {\n",
       "        vertical-align: top;\n",
       "    }\n",
       "\n",
       "    .dataframe thead th {\n",
       "        text-align: right;\n",
       "    }\n",
       "</style>\n",
       "<table border=\"1\" class=\"dataframe\">\n",
       "  <thead>\n",
       "    <tr style=\"text-align: right;\">\n",
       "      <th></th>\n",
       "      <th>Date</th>\n",
       "      <th>Temp</th>\n",
       "      <th>t</th>\n",
       "      <th>resid</th>\n",
       "    </tr>\n",
       "  </thead>\n",
       "  <tbody>\n",
       "    <tr>\n",
       "      <th>0</th>\n",
       "      <td>1981-01-01</td>\n",
       "      <td>20.7</td>\n",
       "      <td>NaN</td>\n",
       "      <td>NaN</td>\n",
       "    </tr>\n",
       "    <tr>\n",
       "      <th>1</th>\n",
       "      <td>1981-01-02</td>\n",
       "      <td>17.9</td>\n",
       "      <td>20.7</td>\n",
       "      <td>-2.8</td>\n",
       "    </tr>\n",
       "    <tr>\n",
       "      <th>2</th>\n",
       "      <td>1981-01-03</td>\n",
       "      <td>18.8</td>\n",
       "      <td>17.9</td>\n",
       "      <td>0.9</td>\n",
       "    </tr>\n",
       "    <tr>\n",
       "      <th>3</th>\n",
       "      <td>1981-01-04</td>\n",
       "      <td>14.6</td>\n",
       "      <td>18.8</td>\n",
       "      <td>-4.2</td>\n",
       "    </tr>\n",
       "    <tr>\n",
       "      <th>4</th>\n",
       "      <td>1981-01-05</td>\n",
       "      <td>15.8</td>\n",
       "      <td>14.6</td>\n",
       "      <td>1.2</td>\n",
       "    </tr>\n",
       "  </tbody>\n",
       "</table>\n",
       "</div>"
      ],
      "text/plain": [
       "         Date  Temp     t  resid\n",
       "0  1981-01-01  20.7   NaN    NaN\n",
       "1  1981-01-02  17.9  20.7   -2.8\n",
       "2  1981-01-03  18.8  17.9    0.9\n",
       "3  1981-01-04  14.6  18.8   -4.2\n",
       "4  1981-01-05  15.8  14.6    1.2"
      ]
     },
     "execution_count": 10,
     "metadata": {},
     "output_type": "execute_result"
    }
   ],
   "source": [
    "new_df.head()"
   ]
  },
  {
   "cell_type": "code",
   "execution_count": 20,
   "id": "f0245640-fcb9-4f40-a4f9-e955ff35fea3",
   "metadata": {},
   "outputs": [
    {
     "data": {
      "text/plain": [
       "0       20.7\n",
       "1       17.9\n",
       "2       18.8\n",
       "3       14.6\n",
       "4       15.8\n",
       "        ... \n",
       "3645    14.0\n",
       "3646    13.6\n",
       "3647    13.5\n",
       "3648    15.7\n",
       "3649    13.0\n",
       "Name: Temp, Length: 3650, dtype: float64"
      ]
     },
     "execution_count": 20,
     "metadata": {},
     "output_type": "execute_result"
    }
   ],
   "source": [
    "new_df.Temp"
   ]
  },
  {
   "cell_type": "code",
   "execution_count": 11,
   "id": "d4acfa70-699d-4470-a743-1b0f2ef03ac9",
   "metadata": {},
   "outputs": [
    {
     "data": {
      "text/plain": [
       "0       NaN\n",
       "1      -2.8\n",
       "2       0.9\n",
       "3      -4.2\n",
       "4       1.2\n",
       "       ... \n",
       "3645   -0.6\n",
       "3646   -0.4\n",
       "3647   -0.1\n",
       "3648    2.2\n",
       "3649   -2.7\n",
       "Name: resid, Length: 3650, dtype: float64"
      ]
     },
     "execution_count": 11,
     "metadata": {},
     "output_type": "execute_result"
    }
   ],
   "source": [
    "new_df.resid"
   ]
  },
  {
   "cell_type": "code",
   "execution_count": 12,
   "id": "13544d3c-5126-44bf-9f59-d1b0764b6292",
   "metadata": {},
   "outputs": [
    {
     "data": {
      "text/plain": [
       "3643"
      ]
     },
     "execution_count": 12,
     "metadata": {},
     "output_type": "execute_result"
    }
   ],
   "source": [
    "new_df.shape[0]-7"
   ]
  },
  {
   "cell_type": "code",
   "execution_count": 13,
   "id": "de06193b-ebc9-43c3-9e46-b645923f5f1e",
   "metadata": {},
   "outputs": [],
   "source": [
    "new_train,new_test=new_df.resid[1:new_df.shape[0]-7],new_df.resid[new_df.shape[0]-7:]"
   ]
  },
  {
   "cell_type": "code",
   "execution_count": 14,
   "id": "7c14cdd1-c4bc-4d52-a0bf-4123c53efeb4",
   "metadata": {},
   "outputs": [
    {
     "data": {
      "text/plain": [
       "1      -2.8\n",
       "2       0.9\n",
       "3      -4.2\n",
       "4       1.2\n",
       "5       0.0\n",
       "       ... \n",
       "3638    0.7\n",
       "3639   -2.3\n",
       "3640    0.1\n",
       "3641    0.7\n",
       "3642   -3.9\n",
       "Name: resid, Length: 3642, dtype: float64"
      ]
     },
     "execution_count": 14,
     "metadata": {},
     "output_type": "execute_result"
    }
   ],
   "source": [
    "new_train"
   ]
  },
  {
   "cell_type": "code",
   "execution_count": 15,
   "id": "b3387f97-fcb7-454e-84ab-d94c25fc0d68",
   "metadata": {},
   "outputs": [
    {
     "data": {
      "text/plain": [
       "3643    2.9\n",
       "3644    1.7\n",
       "3645   -0.6\n",
       "3646   -0.4\n",
       "3647   -0.1\n",
       "3648    2.2\n",
       "3649   -2.7\n",
       "Name: resid, dtype: float64"
      ]
     },
     "execution_count": 15,
     "metadata": {},
     "output_type": "execute_result"
    }
   ],
   "source": [
    "new_test"
   ]
  },
  {
   "cell_type": "code",
   "execution_count": 16,
   "id": "f72594a3-d8e0-4d5c-8c64-83fd48064f6e",
   "metadata": {},
   "outputs": [
    {
     "data": {
      "text/plain": [
       "1   -2.8\n",
       "2    0.9\n",
       "3   -4.2\n",
       "4    1.2\n",
       "5    0.0\n",
       "Name: resid, dtype: float64"
      ]
     },
     "execution_count": 16,
     "metadata": {},
     "output_type": "execute_result"
    }
   ],
   "source": [
    "new_train.head()"
   ]
  },
  {
   "cell_type": "code",
   "execution_count": 17,
   "id": "cfcde308-f96d-4028-9841-3cf2dae5eb9f",
   "metadata": {},
   "outputs": [],
   "source": [
    "#train autoregression model\n",
    "new_model=AutoReg(new_train,lags=29)# 1. Instantiate an autoregression model, with 29 lagged observations.\n"
   ]
  },
  {
   "cell_type": "code",
   "execution_count": 18,
   "id": "7b218af9-fd6e-4a00-b76c-928d4a13802d",
   "metadata": {},
   "outputs": [],
   "source": [
    "model_fit=new_model.fit() # 2. Fit the model to the training data."
   ]
  },
  {
   "cell_type": "code",
   "execution_count": 19,
   "id": "684753e2-2a8b-42b4-845c-7c6eb5540ccd",
   "metadata": {
    "scrolled": true
   },
   "outputs": [
    {
     "data": {
      "text/plain": [
       "const       -0.006415\n",
       "resid.L1    -0.407139\n",
       "resid.L2    -0.496194\n",
       "resid.L3    -0.445747\n",
       "resid.L4    -0.403706\n",
       "resid.L5    -0.362528\n",
       "resid.L6    -0.334810\n",
       "resid.L7    -0.288468\n",
       "resid.L8    -0.274281\n",
       "resid.L9    -0.235333\n",
       "resid.L10   -0.234799\n",
       "resid.L11   -0.228532\n",
       "resid.L12   -0.208608\n",
       "resid.L13   -0.180324\n",
       "resid.L14   -0.178425\n",
       "resid.L15   -0.152265\n",
       "resid.L16   -0.143617\n",
       "resid.L17   -0.132501\n",
       "resid.L18   -0.097075\n",
       "resid.L19   -0.104927\n",
       "resid.L20   -0.079371\n",
       "resid.L21   -0.059348\n",
       "resid.L22   -0.045921\n",
       "resid.L23   -0.063197\n",
       "resid.L24   -0.063441\n",
       "resid.L25   -0.045061\n",
       "resid.L26   -0.023578\n",
       "resid.L27   -0.011882\n",
       "resid.L28   -0.003789\n",
       "resid.L29   -0.003422\n",
       "dtype: float64"
      ]
     },
     "execution_count": 19,
     "metadata": {},
     "output_type": "execute_result"
    }
   ],
   "source": [
    "model_fit.params# 3. Output the learned parameters (coefficients) of the fitted AR model."
   ]
  },
  {
   "cell_type": "code",
   "execution_count": 28,
   "id": "686c2f22-ff5b-4149-8f63-b3a9c0922794",
   "metadata": {},
   "outputs": [],
   "source": [
    "new_pred_resid=model_fit.predict(start=len(new_train),end=len(new_train)+len(new_test)).dropna()\n",
    "# Make predictions for the test data, predicting from the end of the training data\n",
    "# to one point beyond the length of the test data, and drop any NaN values."
   ]
  },
  {
   "cell_type": "code",
   "execution_count": 29,
   "id": "49e18b5c-8fff-4cda-b127-d8114d2e3780",
   "metadata": {},
   "outputs": [
    {
     "data": {
      "text/plain": [
       "3643    1.264192\n",
       "3644    0.510869\n",
       "3645   -0.251687\n",
       "3646   -0.122054\n",
       "3647    0.077509\n",
       "3648    0.055600\n",
       "3649    0.229926\n",
       "dtype: float64"
      ]
     },
     "execution_count": 29,
     "metadata": {},
     "output_type": "execute_result"
    }
   ],
   "source": [
    "new_pred_resid"
   ]
  },
  {
   "cell_type": "code",
   "execution_count": 30,
   "id": "4ba85b29-cd1e-4a67-81f7-7db92bbe97be",
   "metadata": {},
   "outputs": [
    {
     "data": {
      "text/plain": [
       "3643    11.264192\n",
       "3644    13.410869\n",
       "3645    14.348313\n",
       "3646    13.877946\n",
       "3647    13.677509\n",
       "3648    13.555600\n",
       "3649    15.929926\n",
       "dtype: float64"
      ]
     },
     "execution_count": 30,
     "metadata": {},
     "output_type": "execute_result"
    }
   ],
   "source": [
    "new_predictions=new_df.t[new_df.shape[0]-7:]+new_pred_resid\n",
    "new_predictions"
   ]
  },
  {
   "cell_type": "code",
   "execution_count": 36,
   "id": "722eec1c-1ed0-4cc6-be75-aad20d9f9ec8",
   "metadata": {},
   "outputs": [
    {
     "name": "stdout",
     "output_type": "stream",
     "text": [
      "test Rmse:13.629\n"
     ]
    }
   ],
   "source": [
    "rmse=sqrt(mean_squared_error(new_predictions,new_test))\n",
    "print('test Rmse:%.3F'%rmse)"
   ]
  },
  {
   "cell_type": "code",
   "execution_count": 37,
   "id": "37ef9f1f-c014-4e2d-b024-a608cb502214",
   "metadata": {},
   "outputs": [
    {
     "data": {
      "text/plain": [
       "[<matplotlib.lines.Line2D at 0x280df61ab50>]"
      ]
     },
     "execution_count": 37,
     "metadata": {},
     "output_type": "execute_result"
    },
    {
     "data": {
      "image/png": "[encoded data removed]",
      "text/plain": [
       "<Figure size 640x480 with 1 Axes>"
      ]
     },
     "metadata": {},
     "output_type": "display_data"
    }
   ],
   "source": [
    "pyplot.plot(new_test)\n",
    "pyplot.plot (new_predictions,color='red')"
   ]
  },
  {
   "cell_type": "code",
   "execution_count": null,
   "id": "f55d582b-7ce5-43b2-8366-3a9401447edf",
   "metadata": {},
   "outputs": [],
   "source": []
  }
 ],
 "metadata": {
  "kernelspec": {
   "display_name": "Python 3 (ipykernel)",
   "language": "python",
   "name": "python3"
  },
  "language_info": {
   "codemirror_mode": {
    "name": "ipython",
    "version": 3
   },
   "file_extension": ".py",
   "mimetype": "text/x-python",
   "name": "python",
   "nbconvert_exporter": "python",
   "pygments_lexer": "ipython3",
   "version": "3.9.13"
  }
 },
 "nbformat": 4,
 "nbformat_minor": 5
}
